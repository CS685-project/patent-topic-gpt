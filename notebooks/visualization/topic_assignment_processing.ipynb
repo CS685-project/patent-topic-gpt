{
 "cells": [
  {
   "cell_type": "code",
   "execution_count": 5,
   "metadata": {},
   "outputs": [],
   "source": [
    "import os\n",
    "from pathlib import Path\n",
    "import pandas as pd"
   ]
  },
  {
   "cell_type": "code",
   "execution_count": 30,
   "metadata": {},
   "outputs": [],
   "source": [
    "model_deployment_name = \"llama-3-70b-chat\"\n",
    "\n",
    "topicgpt_path = Path(\"../../topicGPT\")\n",
    "output_path = topicgpt_path / \"data\" / \"output\" / model_deployment_name\n",
    "assignment_path = output_path / \"assignment.jsonl\"\n",
    "data = pd.read_json(assignment_path, lines=True)"
   ]
  },
  {
   "cell_type": "code",
   "execution_count": 32,
   "metadata": {},
   "outputs": [
    {
     "name": "stdout",
     "output_type": "stream",
     "text": [
      "0     [Assignment:, [1] Wireless Communication: Ment...\n",
      "1     [Assignment:, [1] Energy Management: Mentions ...\n",
      "2     [Assignment:, [1] Electrochemistry: Mentions a...\n",
      "3     [Assignment:, [1] HVAC: Mentions an improved p...\n",
      "4     [Assignment:, [1] Renewable Energy: Mentions a...\n",
      "5     [Assignment:, [1] Display Technology: Mentions...\n",
      "6     [Assignment:, [1] Optoelectronics: Mentions a ...\n",
      "7     [Assignment:, [1] Aerospace Engineering: Menti...\n",
      "8     [Assignment:, [1] Display Technology: Mentions...\n",
      "9     [Assignment:, [1] Thermal Systems: Mentions a ...\n",
      "10    [Assignment:, [1] Biotechnology and Biochemica...\n",
      "11    [Assignment:, [1] Information Technology: Ment...\n",
      "12    [Assignment:, [1] Optoelectronics: Mentions li...\n",
      "13    [Assignment:, [1] Automotive: Mentions a vehic...\n",
      "14    [Assignment:, [1] Aerospace Engineering: Menti...\n",
      "15    [Assignment:, [1] Electrochemistry: Mentions a...\n",
      "16    [Assignment:, [1] Power and Energy Systems: Me...\n",
      "17    [Assignment:, [1] Information Technology: Ment...\n",
      "18    [Assignment:, [1] Wireless Power Transfer: Men...\n",
      "19    [Assignment:, [1] HVAC: Mentions a drainage wa...\n",
      "20    [Assignment:, [1] Wireless Communication: Ment...\n",
      "21    [Assignment:, [1] Automotive: Mentions devices...\n",
      "22    [Assignment:, [1] Automotive: Mentions control...\n",
      "23    [Assignment:, [1] Lighting: Mentions a lightin...\n",
      "24    [Assignment:, [1] Optoelectronics: Mentions a ...\n",
      "25    [Assignment:, [1] Industrial Automation: Menti...\n",
      "26    [Assignment:, [1] Thermal Systems: Mentions a ...\n",
      "27    [Assignment:, [1] Wireless Communication: Ment...\n",
      "28    [Assignment:, [1] Wind Energy: Mentions a wind...\n",
      "29    [Assignment:, [1] Electrochemistry: Mentions p...\n",
      "30    [Assignment:, [1] Microwave, Reasoning: The do...\n",
      "31    [Assignment:, [1] Automotive: Mentions a syste...\n",
      "32    [Assignment:, [1] Power and Energy Systems: Me...\n",
      "33    [Assignment:, [1] Automotive: Mentions electri...\n",
      "34    [Assignment:, [1] Wireless Communication: Ment...\n",
      "35    [Assignment:, [1] Aerospace Engineering: Menti...\n",
      "36    [Assignment:, [1] Automotive: Mentions a devic...\n",
      "37    [Assignment:, [1] Electrochemistry: Mentions a...\n",
      "38    [Assignment:, [1] Industrial Automation: Menti...\n",
      "39    [Assignment:, [1] Renewable Energy: Mentions a...\n",
      "40    [Assignment:, [1] Aerospace Engineering: Menti...\n",
      "41    [Assignment:, [1] Energy Management: Mentions ...\n",
      "42    [Assignment:, [1] Electrochemistry: Mentions a...\n",
      "43    [Assignment:, [1] Industrial Automation: Menti...\n",
      "44    [Assignment:, [1] Renewable Energy: Mentions m...\n",
      "45    [Assignment:, [1] HVAC: Mentions an HVAC syste...\n",
      "46    [Assignment:, [1] Wireless Power Transfer: Men...\n",
      "47    [Assignment:, [1] Renewable Energy: Mentions a...\n",
      "48    [Assignment:, [1] Information Technology: Ment...\n",
      "49    [Assignment:, [1] Renewable Energy: Mentions f...\n",
      "Name: responses, dtype: object\n"
     ]
    }
   ],
   "source": [
    "print(data.responses.apply(str.split, args=\"\\n\"))"
   ]
  }
 ],
 "metadata": {
  "kernelspec": {
   "display_name": "cs685-project-env",
   "language": "python",
   "name": "python3"
  },
  "language_info": {
   "codemirror_mode": {
    "name": "ipython",
    "version": 3
   },
   "file_extension": ".py",
   "mimetype": "text/x-python",
   "name": "python",
   "nbconvert_exporter": "python",
   "pygments_lexer": "ipython3",
   "version": "3.10.5"
  }
 },
 "nbformat": 4,
 "nbformat_minor": 2
}
