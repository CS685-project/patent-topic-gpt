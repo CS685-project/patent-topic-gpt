{
 "cells": [
  {
   "cell_type": "code",
   "execution_count": 1,
   "metadata": {},
   "outputs": [],
   "source": [
    "#!pip install bertopic"
   ]
  },
  {
   "cell_type": "code",
   "execution_count": 16,
   "metadata": {},
   "outputs": [],
   "source": [
    "from bertopic import BERTopic\n",
    "from bertopic.representation import KeyBERTInspired\n",
    "from pathlib import Path\n",
    "import pandas as pd\n",
    "import regex"
   ]
  },
  {
   "cell_type": "code",
   "execution_count": 17,
   "metadata": {},
   "outputs": [],
   "source": [
    "def read_seed(seed_file):\n",
    "    \"\"\"\n",
    "    Construct topic list from seed file (.md format)\n",
    "    \"\"\"\n",
    "    topics = []\n",
    "    pattern = regex.compile(\"^\\[(\\d+)\\] ([\\w\\s]+) \\(Count: (\\d+)\\): (.+)\")\n",
    "    hierarchy = open(seed_file, \"r\").readlines()\n",
    "    for res in hierarchy:\n",
    "        res = res.strip().split(\"\\n\")\n",
    "        for r in res:\n",
    "            #Remove characters before first whitespace \" \"\n",
    "            r = r.strip().split(\" \")[1:]\n",
    "            if r != []:\n",
    "                topics.append(r)\n",
    "    return topics"
   ]
  },
  {
   "cell_type": "code",
   "execution_count": 32,
   "metadata": {},
   "outputs": [],
   "source": [
    "input_file_path = \"../../topic-gpt-fork/data/input/uniform_sample.jsonl\"\n",
    "# seed_topic_file_path = \"../../topic-gpt-fork/prompt/bertopic_comparison/seed_out.md\"\n",
    "seed_topic_file_path = \"../../topic-gpt-fork/prompt/bertopic_comparison/seed_in.md\"\n",
    "# outputh_path = \"../../topic-gpt-fork/data/output/llama-3-70b-chat/bertopic_comparison/bertopic_output_out.csv\"\n",
    "outputh_path = \"../../topic-gpt-fork/data/output/llama-3-70b-chat/bertopic_comparison/bertopic_output_in.csv\""
   ]
  },
  {
   "cell_type": "code",
   "execution_count": 33,
   "metadata": {},
   "outputs": [],
   "source": [
    "\n",
    "df = pd.read_json(str(input_file_path), lines=True)\n",
    "docs = df[\"text\"].tolist()\n",
    "\n",
    "seed_topics = read_seed(seed_topic_file_path)"
   ]
  },
  {
   "cell_type": "code",
   "execution_count": 36,
   "metadata": {},
   "outputs": [],
   "source": [
    "\n",
    "\n",
    "representation_model = KeyBERTInspired()\n",
    "\n",
    "topic_model = BERTopic(seed_topic_list=seed_topics, representation_model=representation_model, verbose=True)\n"
   ]
  },
  {
   "cell_type": "code",
   "execution_count": 37,
   "metadata": {},
   "outputs": [
    {
     "name": "stderr",
     "output_type": "stream",
     "text": [
      "2024-05-12 14:28:47,891 - BERTopic - Embedding - Transforming documents to embeddings.\n",
      "Batches: 100%|██████████| 32/32 [00:09<00:00,  3.36it/s]\n",
      "2024-05-12 14:28:57,495 - BERTopic - Embedding - Completed ✓\n",
      "2024-05-12 14:28:57,495 - BERTopic - Guided - Find embeddings highly related to seeded topics.\n",
      "Batches: 100%|██████████| 1/1 [00:00<00:00, 144.97it/s]\n",
      "2024-05-12 14:28:57,507 - BERTopic - Guided - Completed ✓\n",
      "2024-05-12 14:28:57,508 - BERTopic - Dimensionality - Fitting the dimensionality reduction algorithm\n",
      "2024-05-12 14:28:59,190 - BERTopic - Dimensionality - Completed ✓\n",
      "2024-05-12 14:28:59,190 - BERTopic - Cluster - Start clustering the reduced embeddings\n",
      "2024-05-12 14:28:59,204 - BERTopic - Cluster - Completed ✓\n",
      "2024-05-12 14:28:59,205 - BERTopic - Representation - Extracting topics from clusters using representation models.\n",
      "2024-05-12 14:29:00,795 - BERTopic - Representation - Completed ✓\n"
     ]
    }
   ],
   "source": [
    "topics, probs = topic_model.fit_transform(docs)"
   ]
  },
  {
   "cell_type": "code",
   "execution_count": 38,
   "metadata": {},
   "outputs": [],
   "source": [
    "#Store the resulting names of topics from Pandas DF in a file\n",
    "topic_model.get_topic_info().to_csv(outputh_path, index=False)\n"
   ]
  }
 ],
 "metadata": {
  "kernelspec": {
   "display_name": "cs685",
   "language": "python",
   "name": "python3"
  },
  "language_info": {
   "codemirror_mode": {
    "name": "ipython",
    "version": 3
   },
   "file_extension": ".py",
   "mimetype": "text/x-python",
   "name": "python",
   "nbconvert_exporter": "python",
   "pygments_lexer": "ipython3",
   "version": "3.11.5"
  }
 },
 "nbformat": 4,
 "nbformat_minor": 2
}
