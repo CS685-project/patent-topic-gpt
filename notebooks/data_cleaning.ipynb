{
 "cells": [
  {
   "cell_type": "code",
   "execution_count": 22,
   "metadata": {},
   "outputs": [],
   "source": [
    "import os\n",
    "import pandas as pd"
   ]
  },
  {
   "cell_type": "code",
   "execution_count": 3,
   "metadata": {},
   "outputs": [],
   "source": [
    "directory = \"../data/json_dump\"\n",
    "data = []\n",
    "for file in os.listdir(directory):\n",
    "    jsonObj = pd.read_json(os.path.join(directory, file), lines=True)\n",
    "    l=[]\n",
    "    for index, row in jsonObj.iterrows():\n",
    "        flag=0\n",
    "        if type(row['cpc_id'])==list:\n",
    "            for j in row['cpc_id']:\n",
    "                if j.startswith(\"Y02\"):\n",
    "                    flag=1\n",
    "            if flag==0:\n",
    "                l.append(index)\n",
    "        else:\n",
    "            if j.startswith(\"Y02\"):\n",
    "                    flag=1\n",
    "            if flag==0:\n",
    "                l.append(index)\n",
    "    jsonObj=jsonObj.drop(l)\n",
    "    jsonObj=jsonObj.reset_index(drop=True)\n",
    "    list_of_jsons = jsonObj.to_json(os.path.join(directory, file),orient='records', lines=True)"
   ]
  }
 ],
 "metadata": {
  "kernelspec": {
   "display_name": "venv",
   "language": "python",
   "name": "python3"
  },
  "language_info": {
   "codemirror_mode": {
    "name": "ipython",
    "version": 3
   },
   "file_extension": ".py",
   "mimetype": "text/x-python",
   "name": "python",
   "nbconvert_exporter": "python",
   "pygments_lexer": "ipython3",
   "version": "3.11.7"
  }
 },
 "nbformat": 4,
 "nbformat_minor": 2
}
