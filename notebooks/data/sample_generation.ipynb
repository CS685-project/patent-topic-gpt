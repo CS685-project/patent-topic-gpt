{
 "cells": [
  {
   "cell_type": "code",
   "execution_count": 1,
   "metadata": {},
   "outputs": [],
   "source": [
    "import os\n",
    "import json\n",
    "import pandas as pd\n",
    "import numpy as np"
   ]
  },
  {
   "cell_type": "code",
   "execution_count": 2,
   "metadata": {},
   "outputs": [],
   "source": [
    "# Concatenates the content of all jsonl files within one directory into one dataframe\n",
    "\n",
    "def concat_jsonl_dir_to_df(directory: str):\n",
    "    data = []\n",
    "    for file in os.listdir(directory):\n",
    "\n",
    "        # filename = os.fsdecode(file)\n",
    "        jsonObj = pd.read_json(os.path.join(directory, file), lines=True)\n",
    "        data.append(jsonObj)\n",
    "\n",
    "    data = pd.concat(data)\n",
    "    data.columns = [\"id\", \"text\", \"label\"]\n",
    "    return data\n",
    "\n",
    "\n",
    "directory = \"../data/json_dump\"\n",
    "data = concat_jsonl_dir_to_df(directory)"
   ]
  },
  {
   "cell_type": "code",
   "execution_count": 15,
   "metadata": {},
   "outputs": [
    {
     "name": "stdout",
     "output_type": "stream",
     "text": [
      "(1000, 3)\n"
     ]
    }
   ],
   "source": [
    "# Samples 1000 documents uniform at random and stores them in new file\n",
    "sample = data.sample(1000)\n",
    "sample.to_json(\"../dummy_data/uniform_sample.jsonl\", lines=True, orient=\"records\")"
   ]
  },
  {
   "cell_type": "code",
   "execution_count": 15,
   "metadata": {},
   "outputs": [
    {
     "name": "stdout",
     "output_type": "stream",
     "text": [
      "Shuffled indices:\n",
      "[507 818 452 368 242 929 262 810 318  49 446 142 968 345 971]\n",
      "...\n"
     ]
    }
   ],
   "source": [
    "# Load existing sample file, shuffle, and store in new file\n",
    "sample_path = \"../dummy_data/uniform_sample.jsonl\"\n",
    "shuffled_sample_path = \"../dummy_data/uniform_sample_shuffled.jsonl\"\n",
    "\n",
    "np.random.seed(1)\n",
    "\n",
    "sample = pd.read_json(sample_path, lines=True)\n",
    "shuffled_idxs = np.arange(len(sample)).astype(int)\n",
    "np.random.shuffle(shuffled_idxs)\n",
    "sample = sample.iloc[shuffled_idxs]\n",
    "\n",
    "sample.to_json(shuffled_sample_path, lines=True, orient=\"records\")\n",
    "print(\"Shuffled indices:\")\n",
    "print(shuffled_idxs[:15])\n",
    "print(\"...\")"
   ]
  }
 ],
 "metadata": {
  "kernelspec": {
   "display_name": "cs685-project-env",
   "language": "python",
   "name": "python3"
  },
  "language_info": {
   "codemirror_mode": {
    "name": "ipython",
    "version": 3
   },
   "file_extension": ".py",
   "mimetype": "text/x-python",
   "name": "python",
   "nbconvert_exporter": "python",
   "pygments_lexer": "ipython3",
   "version": "3.10.5"
  }
 },
 "nbformat": 4,
 "nbformat_minor": 2
}
