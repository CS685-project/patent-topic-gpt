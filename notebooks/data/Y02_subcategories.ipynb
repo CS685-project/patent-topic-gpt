{
 "cells": [
  {
   "cell_type": "code",
   "execution_count": 3,
   "metadata": {},
   "outputs": [],
   "source": [
    "import os\n",
    "import pandas as pd\n",
    "from pathlib import Path\n"
   ]
  },
  {
   "cell_type": "code",
   "execution_count": 4,
   "metadata": {},
   "outputs": [],
   "source": [
    "Y02_code=\"Y02P\"\n",
    "directory = \"../data/json_dump\"\n",
    "sample_size=1000\n"
   ]
  },
  {
   "cell_type": "code",
   "execution_count": 5,
   "metadata": {},
   "outputs": [],
   "source": [
    "# Fetch all data from the directory\n",
    "data = []\n",
    "for file in os.listdir(directory):\n",
    "    jsonObj = pd.read_json(os.path.join(directory, file), lines=True)\n",
    "    data.append(jsonObj)\n",
    "data = pd.concat(data)\n"
   ]
  },
  {
   "cell_type": "code",
   "execution_count": 6,
   "metadata": {},
   "outputs": [],
   "source": [
    "# Iterate through data and pick patents which match the label\n",
    "patent_code_list=[]\n",
    "for index, row in data.iterrows():\n",
    "    arr_y02_truncated=set()\n",
    "    flag=0\n",
    "    if type(row['cpc_id'])==list or type(row['cpc_id'])==set :\n",
    "        for j in row['cpc_id']:\n",
    "            if j.startswith(Y02_code):\n",
    "                flag=1\n",
    "    else:\n",
    "        if j.startswith(Y02_code):\n",
    "                flag=1\n",
    "    if flag==1:\n",
    "         patent_code_list.append(row)\n",
    "    "
   ]
  },
  {
   "cell_type": "code",
   "execution_count": 7,
   "metadata": {},
   "outputs": [],
   "source": [
    "# Samples 1000 documents uniform at random and stores them in new file\n",
    "patent_code_data = pd.DataFrame(patent_code_list, columns=[\"patent_number\", \"abstract\", \"cpc_id\"])\n",
    "patent_code_data.rename(columns={'patent_number': 'id', 'abstract': 'text','cpc_id':'label'}, inplace=True)\n",
    "sample = patent_code_data.sample(sample_size, random_state=1)\n"
   ]
  },
  {
   "cell_type": "code",
   "execution_count": 8,
   "metadata": {},
   "outputs": [],
   "source": [
    "topicgpt_path = Path(\"../../topic-gpt-fork\")\n",
    "file_name=Y02_code+\".jsonl\"\n",
    "input_path = topicgpt_path / \"data\" / \"input\" / file_name\n",
    "sample.to_json(input_path,orient=\"records\",lines=True)\n"
   ]
  }
 ],
 "metadata": {
  "kernelspec": {
   "display_name": "venv",
   "language": "python",
   "name": "python3"
  },
  "language_info": {
   "codemirror_mode": {
    "name": "ipython",
    "version": 3
   },
   "file_extension": ".py",
   "mimetype": "text/x-python",
   "name": "python",
   "nbconvert_exporter": "python",
   "pygments_lexer": "ipython3",
   "version": "3.11.5"
  }
 },
 "nbformat": 4,
 "nbformat_minor": 2
}
