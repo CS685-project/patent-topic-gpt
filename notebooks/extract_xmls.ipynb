{
 "cells": [
  {
   "cell_type": "code",
   "execution_count": 1,
   "metadata": {},
   "outputs": [],
   "source": [
    "import requests\n",
    "import zipfile\n",
    "import io\n",
    "import os\n",
    "import xml.etree.ElementTree as et\n",
    "import regex as re\n",
    "from tqdm import tqdm\n",
    "import json\n",
    "import xmltodict\n"
   ]
  },
  {
   "cell_type": "code",
   "execution_count": 2,
   "metadata": {},
   "outputs": [],
   "source": [
    "links_txt_path='../data/raw/links.txt'"
   ]
  },
  {
   "cell_type": "code",
   "execution_count": 10,
   "metadata": {},
   "outputs": [],
   "source": [
    "def download_zip_file(url):\n",
    "    # Send a GET request to the URL\n",
    "    response = requests.get(url)\n",
    "    \n",
    "    # Check if the request was successful (status code 200)\n",
    "    if response.status_code == 200:\n",
    "        # Open the zip file using BytesIO\n",
    "        with io.BytesIO(response.content) as zip_buffer:\n",
    "            with zipfile.ZipFile(zip_buffer, 'r') as zip_ref:\n",
    "                # Find the XML file in the zip archive\n",
    "                xml_file = [file for file in zip_ref.namelist() if file.endswith('.xml')]\n",
    "                if not xml_file:\n",
    "                    print(\"No XML file found in the zip archive.\")\n",
    "                    return None\n",
    "                # Extract the XML file content\n",
    "                xml_content = zip_ref.read(xml_file[0])\n",
    "                # Write into XML file\n",
    "                xml_file_path=os.path.join(\"../data/xml_dump\",xml_file[0])\n",
    "                with open(xml_file_path, 'wb') as f: \n",
    "                    f.write(xml_content)\n",
    "\n",
    "                \n",
    "                return xml_file[0]\n",
    "    else:\n",
    "        print(\"Failed to download file. Status code:\", response.status_code)\n",
    "        return None\n"
   ]
  },
  {
   "cell_type": "code",
   "execution_count": 4,
   "metadata": {},
   "outputs": [],
   "source": [
    "# Extract CPC codes from patent documents (just data exploration)\n",
    "def check_cpc(xml_string):\n",
    "    # for i, xml_string in tqdm(enumerate(xml_strings)):\n",
    "        doc = et.fromstring(xml_string)\n",
    "        cpc_tags = []\n",
    "        Y02_tags=[]\n",
    "        # Iterate over all CPC XML tags in the current document\n",
    "        for elem in doc.iter(\"classification-cpc-text\"):\n",
    "            cpc_tags.append(elem.text)\n",
    "        # cpc_map[i] = cpc_tags\n",
    "        for tag in cpc_tags:\n",
    "            if tag.startswith(\"Y02\"):\n",
    "                Y02_tags.append(tag)\n",
    "        return Y02_tags"
   ]
  },
  {
   "cell_type": "code",
   "execution_count": 5,
   "metadata": {},
   "outputs": [],
   "source": [
    "# The weekly data dumps from USPTO contain a lot of patent xml documents concatenated in one big xml file\n",
    "# --> We need to extract the individual documents\n",
    "# Store each patent xml document as a string in xml_strings\n",
    "def xml_y02(xml_file):\n",
    "  xml_strings = []\n",
    "    # Define SOS sequence that indicates start of new patent\n",
    "  XML_SOS = re.escape(\"<?xml\") + \"*\"\n",
    "  cpc_map = {}\n",
    "  xml_file_path=os.path.join(\"../data/xml_dump\",xml_file)\n",
    "  \n",
    "  count=0\n",
    "  with open(xml_file_path) as file:\n",
    "      count=count+1\n",
    "      xml_string = \"\"\n",
    "      i = 0\n",
    "      cpc_tags=[]\n",
    "      for line in file:\n",
    "        if (re.match(XML_SOS, line) != None) & (xml_string != \"\"):\n",
    "            i += 1\n",
    "            cpc_tags=check_cpc(xml_string)\n",
    "            if cpc_tags!=[]:\n",
    "              xml_strings.append(xml_string)\n",
    "            xml_string = \"\"\n",
    "            count=count+1\n",
    "        xml_string += line\n",
    "  return xml_strings\n",
    "        "
   ]
  },
  {
   "cell_type": "code",
   "execution_count": 6,
   "metadata": {},
   "outputs": [],
   "source": [
    "def xml_regex_matches(xml_strings):\n",
    "    for i,v in enumerate(xml_strings):\n",
    "        v=v.split('\\n')\n",
    "        for ind,xml_string in enumerate(v):\n",
    "            xml_string = re.sub(\"<(b|u|i|(sup)|(sub))>\", \"\", xml_string)\n",
    "            xml_string = re.sub(\"<\\/(b|u|i|(sup)|(sub))>\", \"\", xml_string)\n",
    "            xml_string = re.sub(\" num=\\\"[0-9]*\\\"\", \"\", xml_string)\n",
    "            xml_string = re.sub(\" id=\\\"((p-)|(ul)|(ul[0-9]*-))[0-9]*\\\"\", \"\", xml_string)\n",
    "            xml_string = re.sub(\" id=\\\".*\\\"\", \"\", xml_string)\n",
    "            xml_string = re.sub(\"<li>\", \"\", xml_string)\n",
    "            xml_string = re.sub(\"<\\/li>\", \"\", xml_string)\n",
    "            xml_string = re.sub(\"<ul list-style=\\\"none\\\">\", \"\", xml_string)\n",
    "            xml_string = re.sub(\"<\\/ul>\", \"\", xml_string)\n",
    "            xml_string = re.sub(\"<p>\", \"\", xml_string)\n",
    "            xml_string = re.sub(\"<\\/p>\", \"\", xml_string)\n",
    "            v[ind]=xml_string\n",
    "\n",
    "        str=\"\"\n",
    "        for line in v:\n",
    "            str=str+line+ '\\n'\n",
    "        xml_strings[i]=str\n",
    "\n",
    "    return xml_strings\n"
   ]
  },
  {
   "cell_type": "code",
   "execution_count": 7,
   "metadata": {},
   "outputs": [],
   "source": [
    "def xml_to_json(xml_strings, file):\n",
    "  final_json=[]\n",
    "  for ind,val in enumerate(xml_strings):\n",
    "      try:\n",
    "        v=xmltodict.parse(val)['us-patent-grant']\n",
    "        obj={}\n",
    "        obj[\"patent_number\"]=v[\"us-bibliographic-data-grant\"][\"publication-reference\"][\"document-id\"][\"country\"]+'-'+v[\"us-bibliographic-data-grant\"][\"publication-reference\"][\"document-id\"][\"doc-number\"]+'-'+v[\"us-bibliographic-data-grant\"][\"publication-reference\"][\"document-id\"][\"kind\"]\n",
    "        if (type(v[\"abstract\"])==str):\n",
    "            obj[\"abstract\"]= v[\"abstract\"]\n",
    "        else: obj[\"abstract\"].get(\"#text\",\"\")\n",
    "        obj[\"cpc_id\"]=v[\"us-bibliographic-data-grant\"][\"us-field-of-classification-search\"]['classification-cpc-text']\n",
    "        final_json.append(obj)\n",
    "      except:\n",
    "        pass\n",
    "  xml_file=os.path.join(\"../data/json_dump\",os.path.splitext(file)[0]+\".jsonl\")\n",
    "  with open(xml_file, \"w\") as outfile:\n",
    "      for entry in final_json:\n",
    "          json_str=json.dump(entry,outfile)\n",
    "          outfile.write('\\n')"
   ]
  },
  {
   "cell_type": "code",
   "execution_count": 11,
   "metadata": {},
   "outputs": [
    {
     "name": "stdout",
     "output_type": "stream",
     "text": [
      "Found, skipping\n",
      "File False: 0:00:11.666532\n",
      "Found, skipping\n",
      "File False: 0:00:14.943823\n"
     ]
    }
   ],
   "source": [
    "from datetime import datetime\n",
    "with open(links_txt_path, 'r') as file:\n",
    "    for line in file:\n",
    "        startTime = datetime.now()\n",
    "        link = line.strip()  \n",
    "        xml_file = download_zip_file(link)\n",
    "        # if xml_file!=\n",
    "        xml_strings= xml_y02(xml_file)\n",
    "        xml_strings=xml_regex_matches(xml_strings)\n",
    "        xml_to_json(xml_strings,xml_file)\n",
    "        print(f\"File {xml_file}: {datetime.now()-startTime}\")\n",
    "        # break"
   ]
  },
  {
   "cell_type": "code",
   "execution_count": null,
   "metadata": {},
   "outputs": [
    {
     "name": "stdout",
     "output_type": "stream",
     "text": [
      "ipg180703.xml\n"
     ]
    }
   ],
   "source": [
    "print(xml_file)"
   ]
  }
 ],
 "metadata": {
  "kernelspec": {
   "display_name": "venv",
   "language": "python",
   "name": "python3"
  },
  "language_info": {
   "codemirror_mode": {
    "name": "ipython",
    "version": 3
   },
   "file_extension": ".py",
   "mimetype": "text/x-python",
   "name": "python",
   "nbconvert_exporter": "python",
   "pygments_lexer": "ipython3",
   "version": "3.11.7"
  }
 },
 "nbformat": 4,
 "nbformat_minor": 2
}
