{
 "cells": [
  {
   "cell_type": "code",
   "execution_count": 5,
   "metadata": {},
   "outputs": [],
   "source": [
    "import os\n",
    "import pandas as pd\n",
    "from pathlib import Path"
   ]
  },
  {
   "cell_type": "code",
   "execution_count": 6,
   "metadata": {},
   "outputs": [],
   "source": [
    "Y02_code = \"Y02E\"\n",
    "directory = \"../data/json_dump\""
   ]
  },
  {
   "cell_type": "code",
   "execution_count": 31,
   "metadata": {},
   "outputs": [],
   "source": [
    "# Fetch all data from the directory\n",
    "data = []\n",
    "for file in os.listdir(directory):\n",
    "    json_df = pd.read_json(os.path.join(directory, file), lines=True)\n",
    "    date = file.lstrip(\"ipg\").rstrip(\".jsonl\")\n",
    "    date = f\"20{date[:2]}-{date[2:4]}-{date[4:]}\"\n",
    "    json_df[\"upload_date\"] = date\n",
    "\n",
    "    data.append(json_df)\n",
    "data = pd.concat(data)\n",
    "# Rename columns\n",
    "data.columns = [\"patent_id\", \"abstract\", \"cpc_codes\", \"uspto_upload_date\"]\n",
    "# Reset index\n",
    "data = data.reset_index(drop=True)\n",
    "# Format cpc_codes as concatenated string\n",
    "data[\"cpc_codes\"] = data[\"cpc_codes\"].apply(\", \".join).apply(lambda s: s.replace(\"\\\\\", \"\"))\n",
    "# Set dtype of string columns\n",
    "data = data.astype(\"string\")\n",
    "# Re-order columns\n",
    "data = data[[\"patent_id\", \"uspto_upload_date\", \"cpc_codes\", \"abstract\"]]"
   ]
  },
  {
   "cell_type": "code",
   "execution_count": 32,
   "metadata": {},
   "outputs": [
    {
     "name": "stdout",
     "output_type": "stream",
     "text": [
      "<class 'pandas.core.frame.DataFrame'>\n",
      "RangeIndex: 12330 entries, 0 to 12329\n",
      "Data columns (total 4 columns):\n",
      " #   Column             Non-Null Count  Dtype \n",
      "---  ------             --------------  ----- \n",
      " 0   patent_id          12330 non-null  string\n",
      " 1   uspto_upload_date  12330 non-null  string\n",
      " 2   cpc_codes          12330 non-null  string\n",
      " 3   abstract           12330 non-null  string\n",
      "dtypes: string(4)\n",
      "memory usage: 385.4 KB\n"
     ]
    }
   ],
   "source": [
    "data.info()"
   ]
  },
  {
   "cell_type": "code",
   "execution_count": 33,
   "metadata": {},
   "outputs": [],
   "source": [
    "processed_data_path = Path(\"../data/processed\")\n",
    "data.to_json(processed_data_path / \"uspto_abstracts.json\", orient=\"records\")"
   ]
  }
 ],
 "metadata": {
  "kernelspec": {
   "display_name": "venv",
   "language": "python",
   "name": "python3"
  },
  "language_info": {
   "codemirror_mode": {
    "name": "ipython",
    "version": 3
   },
   "file_extension": ".py",
   "mimetype": "text/x-python",
   "name": "python",
   "nbconvert_exporter": "python",
   "pygments_lexer": "ipython3",
   "version": "3.10.5"
  }
 },
 "nbformat": 4,
 "nbformat_minor": 2
}
