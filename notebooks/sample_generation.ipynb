{
 "cells": [
  {
   "cell_type": "code",
   "execution_count": 9,
   "metadata": {},
   "outputs": [],
   "source": [
    "import os\n",
    "import json\n",
    "import pandas as pd\n",
    "# Load .jsonl patent files\n",
    "# directory = os.fsencode(\"../data/json_dump\")\n",
    "directory = \"../data/json_dump\"\n",
    "\n",
    "data = []\n",
    "for file in os.listdir(directory):\n",
    "\n",
    "    # filename = os.fsdecode(file)\n",
    "    jsonObj = pd.read_json(os.path.join(directory, file), lines=True)\n",
    "    data.append(jsonObj)\n",
    "\n",
    "data = pd.concat(data)\n",
    "data.columns = [\"id\", \"text\", \"label\"]"
   ]
  },
  {
   "cell_type": "code",
   "execution_count": 15,
   "metadata": {},
   "outputs": [
    {
     "name": "stdout",
     "output_type": "stream",
     "text": [
      "(1000, 3)\n"
     ]
    }
   ],
   "source": [
    "sample = data.sample(1000)\n",
    "print(sample.shape)\n",
    "sample.to_json(\"../dummy_data/uniform_sample.jsonl\", lines=True, orient=\"records\")"
   ]
  }
 ],
 "metadata": {
  "kernelspec": {
   "display_name": "cs685-project-env",
   "language": "python",
   "name": "python3"
  },
  "language_info": {
   "codemirror_mode": {
    "name": "ipython",
    "version": 3
   },
   "file_extension": ".py",
   "mimetype": "text/x-python",
   "name": "python",
   "nbconvert_exporter": "python",
   "pygments_lexer": "ipython3",
   "version": "3.10.5"
  }
 },
 "nbformat": 4,
 "nbformat_minor": 2
}
